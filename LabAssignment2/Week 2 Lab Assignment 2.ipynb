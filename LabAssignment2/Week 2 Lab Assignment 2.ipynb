{
 "cells": [
  {
   "cell_type": "code",
   "execution_count": null,
   "id": "87ea8586-e9fa-4559-bf6d-dd19e62a16a4",
   "metadata": {},
   "outputs": [],
   "source": [
    "SELECT\n",
    "    customerNumber,\n",
    "    contactLastName,\n",
    "    contactFirstName\n",
    "FROM customers\n",
    "\n",
    "\n",
    "WHERE customerNumber IN(\n",
    "    SELECT customerNumber\n",
    "    FROM orders\n",
    "    WHERE orderDate = '2003-01-31');"
   ]
  },
  {
   "cell_type": "code",
   "execution_count": null,
   "id": "5cb41fbb-fa2e-4a86-ae7a-284116220100",
   "metadata": {},
   "outputs": [],
   "source": [
    "SELECT\n",
    "    products.productName,\n",
    "    SUM(orderdetails.quantityOrdered) AS total_number_sold\n",
    "FROM products\n",
    "\n",
    "INNER JOIN orderdetails ON products.productCode = orderdetails.productCode\n",
    "GROUP BY productName\n",
    "ORDER BY total_number_sold DESC;"
   ]
  },
  {
   "cell_type": "code",
   "execution_count": null,
   "id": "ce84c36a-c2e5-4be6-9b29-1a7e27f0120f",
   "metadata": {},
   "outputs": [],
   "source": [
    "SELECT \n",
    "    COUNT(DISTINCT orders.customerNumber) AS total_number_of_customers,\n",
    "    products.productName\n",
    "FROM products\n",
    "\n",
    "INNER JOIN orderdetails ON products.productCode = orderdetails.productCode\n",
    "INNER JOIN orders ON orderdetails.orderNumber = orders.orderNumber\n",
    "\n",
    "GROUP BY productName\n",
    "\n",
    "ORDER BY total_number_of_customers DESC;\n"
   ]
  },
  {
   "cell_type": "code",
   "execution_count": null,
   "id": "b263248c-9ba6-45cb-87a8-c046ce06df72",
   "metadata": {},
   "outputs": [],
   "source": [
    "SELECT\n",
    "        employees.employeeNumber,\n",
    "        employees.firstName,\n",
    "        employees.lastName,\n",
    "        offices.city AS city_of_office,\n",
    "        offices.officeCode\n",
    "       \n",
    "        \n",
    "FROM employees\n",
    "\n",
    "INNER JOIN offices ON employees.officeCode = offices.officeCode\n",
    "INNER JOIN customers ON employees.employeeNumber = customers.salesRepEmployeeNumber\n",
    "INNER JOIN orders ON customers.customerNumber = orders.customerNumber\n",
    "INNER JOIN orderdetails ON orders.orderNumber = orderdetails.orderNumber\n",
    "\n",
    "\n",
    "\n",
    "\n",
    "WHERE orderdetails.productCode IN (\n",
    "  SELECT\n",
    "          orderdetails.productCode\n",
    "  \n",
    "  FROM orderDetails\n",
    "  \n",
    "  INNER JOIN orders ON orderdetails.orderNumber = orders.orderNumber\n",
    "  \n",
    "  GROUP BY orderdetails.productCode\n",
    "  HAVING COUNT(DISTINCT orders.customerNumber) < 20\n",
    "      \n",
    "  )\n",
    "  \n",
    "GROUP BY employees.employeeNumber;"
   ]
  },
  {
   "cell_type": "code",
   "execution_count": null,
   "id": "14165744-96b9-48aa-8e9f-213f369d4c4a",
   "metadata": {},
   "outputs": [],
   "source": [
    "SELECT \n",
    "    employees.employeeNumber,\n",
    "    employees.firstName,\n",
    "    employees.lastName,\n",
    "    COUNT(customers.customerNumber) AS number_of_customers\n",
    "    \n",
    "FROM employees\n",
    "\n",
    "INNER JOIN customers ON employees.employeeNumber = customers.salesRepEmployeeNumber\n",
    "\n",
    "GROUP BY employees.employeeNumber\n",
    "\n",
    "HAVING AVG(customers.creditLimit) > 15000;\n"
   ]
  }
 ],
 "metadata": {
  "kernelspec": {
   "display_name": "Python 3 (ipykernel)",
   "language": "python",
   "name": "python3"
  },
  "language_info": {
   "codemirror_mode": {
    "name": "ipython",
    "version": 3
   },
   "file_extension": ".py",
   "mimetype": "text/x-python",
   "name": "python",
   "nbconvert_exporter": "python",
   "pygments_lexer": "ipython3",
   "version": "3.12.4"
  }
 },
 "nbformat": 4,
 "nbformat_minor": 5
}
