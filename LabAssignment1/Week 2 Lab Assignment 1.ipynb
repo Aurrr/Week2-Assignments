{
 "cells": [
  {
   "cell_type": "code",
   "execution_count": null,
   "id": "309f02ac-81c4-48b9-8427-0659bd142c67",
   "metadata": {},
   "outputs": [],
   "source": [
    "SELECT\n",
    "    contactFirstName,\n",
    "    contactLastName,\n",
    "    phone,\n",
    "    addressLine1,\n",
    "    creditLimit\n",
    "FROM customers\n",
    "\n",
    "WHERE \n",
    "    state = 'CA' AND creditLimit > 25000.00;"
   ]
  },
  {
   "cell_type": "code",
   "execution_count": null,
   "id": "188c956f-9b08-41e3-886c-ae2460051e6a",
   "metadata": {},
   "outputs": [],
   "source": [
    "SELECT\n",
    "    customerName,\n",
    "    state,\n",
    "    country\n",
    "    \n",
    "FROM customers\n",
    "\n",
    "WHERE \n",
    "    country <> 'USA' AND customerName LIKE '%Collect%';"
   ]
  },
  {
   "cell_type": "code",
   "execution_count": null,
   "id": "14cc51c2-91ee-4958-8729-97d0a2e71b71",
   "metadata": {},
   "outputs": [],
   "source": [
    "SELECT\n",
    "    addressLine1,\n",
    "    addressLine2,\n",
    "    city,\n",
    "    state,\n",
    "    postalCode,\n",
    "    country\n",
    "FROM customers\n",
    "\n",
    "WHERE state IS NOT NULL;"
   ]
  },
  {
   "cell_type": "code",
   "execution_count": null,
   "id": "4505e6e1-5cff-484d-9993-9e945b6f3c80",
   "metadata": {},
   "outputs": [],
   "source": [
    "SELECT \n",
    "    state,\n",
    "    AVG(creditLimit) AS 'average_credit_limit'\n",
    "\n",
    "FROM customers\n",
    "\n",
    "WHERE country = 'USA'\n",
    "\n",
    "GROUP BY state;"
   ]
  },
  {
   "cell_type": "code",
   "execution_count": null,
   "id": "cef5b00c-23c1-49b5-a49a-a30678e8e431",
   "metadata": {},
   "outputs": [],
   "source": [
    "SELECT \n",
    "    customers.customerName,\n",
    "    orders.orderNumber,\n",
    "    orders.status\n",
    "    \n",
    "    \n",
    "FROM customers\n",
    "\n",
    "INNER JOIN orders ON customers.customerNumber = orders.customerNumber;"
   ]
  },
  {
   "cell_type": "code",
   "execution_count": null,
   "id": "dbfa3a53-23d4-4848-8213-68d7976e8b00",
   "metadata": {},
   "outputs": [],
   "source": [
    "SELECT\n",
    "    customers.customerName,\n",
    "    customers.customerNumber,\n",
    "    SUM(payments.amount) AS 'total_payment_amount'\n",
    "    \n",
    "FROM customers\n",
    "\n",
    "INNER JOIN payments ON customers.customerNumber = payments.customerNumber\n",
    "\n",
    "GROUP BY customerName\n",
    "ORDER BY SUM(payments.amount) DESC;"
   ]
  },
  {
   "cell_type": "code",
   "execution_count": null,
   "id": "e279ab93-4f99-4435-9ee8-94598d8525c8",
   "metadata": {},
   "outputs": [],
   "source": [
    "SELECT\n",
    "    customers.customerName,\n",
    "    customers.customerNumber,\n",
    "    products.productName,\n",
    "    products.productCode,\n",
    "    \n",
    "    SUM(orderdetails.quantityOrdered) AS 'total_ordered'\n",
    "    \n",
    "FROM customers\n",
    "\n",
    "INNER JOIN orders ON customers.customerNumber = orders.customerNumber\n",
    "INNER JOIN orderdetails ON orders.orderNumber = orderdetails.orderNumber\n",
    "INNER JOIN products ON orderdetails.productCode = products.productCode\n",
    "\n",
    "GROUP BY\n",
    "\n",
    "    customers.customerName,\n",
    "    products.productName\n",
    "    \n",
    "\n",
    "\n",
    "HAVING SUM(orderdetails.quantityOrdered) >= 10\n",
    "\n",
    "ORDER BY SUM(orderdetails.quantityOrdered) ASC;"
   ]
  },
  {
   "cell_type": "code",
   "execution_count": null,
   "id": "428ab8e3-1437-4aff-bbb1-391f2a241853",
   "metadata": {},
   "outputs": [],
   "source": [
    "SELECT\n",
    "    lastName,\n",
    "    firstName,\n",
    "    employeeNumber,\n",
    "    officeCode\n",
    "    \n",
    "FROM employees\n",
    "\n",
    "WHERE officeCode IN(\n",
    "    SELECT officeCode\n",
    "    FROM employees\n",
    "    GROUP BY officeCode\n",
    "    HAVING COUNT(employeeNumber) < 5);"
   ]
  }
 ],
 "metadata": {
  "kernelspec": {
   "display_name": "Python 3 (ipykernel)",
   "language": "python",
   "name": "python3"
  },
  "language_info": {
   "codemirror_mode": {
    "name": "ipython",
    "version": 3
   },
   "file_extension": ".py",
   "mimetype": "text/x-python",
   "name": "python",
   "nbconvert_exporter": "python",
   "pygments_lexer": "ipython3",
   "version": "3.12.4"
  }
 },
 "nbformat": 4,
 "nbformat_minor": 5
}
